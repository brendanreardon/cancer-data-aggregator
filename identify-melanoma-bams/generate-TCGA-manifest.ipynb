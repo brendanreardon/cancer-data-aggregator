{
 "cells": [
  {
   "cell_type": "code",
   "execution_count": 1,
   "id": "20c08482",
   "metadata": {},
   "outputs": [],
   "source": [
    "import cdapython as cda\n",
    "import pandas as pd"
   ]
  },
  {
   "cell_type": "code",
   "execution_count": 2,
   "id": "3419c7ea",
   "metadata": {},
   "outputs": [
    {
     "data": {
      "text/plain": [
       "'CPTAC-TCGA, TCGA-ACC, TCGA-BLCA, TCGA-BRCA, TCGA-CESC, TCGA-CHOL, TCGA-COAD, TCGA-DLBC, TCGA-ESCA, TCGA-GBM, TCGA-HNSC, TCGA-KICH, TCGA-KIRC, TCGA-KIRP, TCGA-LAML, TCGA-LGG, TCGA-LIHC, TCGA-LUAD, TCGA-LUSC, TCGA-MESO, TCGA-OV, TCGA-PAAD, TCGA-PCPG, TCGA-PRAD, TCGA-READ, TCGA-SARC, TCGA-SKCM, TCGA-STAD, TCGA-TGCT, TCGA-THCA, TCGA-THYM, TCGA-UCEC, TCGA-UCS, TCGA-UVM'"
      ]
     },
     "execution_count": 2,
     "metadata": {},
     "output_type": "execute_result"
    }
   ],
   "source": [
    "cohorts = cda.unique_terms('ResearchSubject.member_of_research_project')\n",
    "', '.join([cohort for cohort in cohorts if 'TCGA' in cohort])"
   ]
  },
  {
   "cell_type": "code",
   "execution_count": 11,
   "id": "5c4c49f7",
   "metadata": {},
   "outputs": [],
   "source": [
    "TCGA_cohort = \"TCGA-SKCM\""
   ]
  },
  {
   "cell_type": "code",
   "execution_count": 4,
   "id": "9387f93c",
   "metadata": {},
   "outputs": [],
   "source": [
    "def get_cohort_research_subjects(cohort_name, query_limit=5000):\n",
    "    query = f'ResearchSubject.member_of_research_project = \"{cohort_name}\"'\n",
    "    print(query)\n",
    "    q = cda.Q(query)\n",
    "    return q.run(limit=query_limit)\n",
    "\n",
    "def create_file_records(research_subjects, return_dataframe=False):\n",
    "    records = []\n",
    "    for research_subject in research_subjects:\n",
    "        research_subject_id = research_subject['id']\n",
    "        specimens = research_subject['ResearchSubject'][0]['Specimen']\n",
    "        for specimen in specimens:\n",
    "            specimen_id = specimen['id']\n",
    "            source_material_type = specimen['source_material_type']\n",
    "            specimen_type = specimen['specimen_type']\n",
    "        \n",
    "            files = specimen['File']\n",
    "            for file in files:\n",
    "                file_format = file['file_format']\n",
    "                file_id = file['id']\n",
    "                label = file['label']\n",
    "                data_category = file['data_category']\n",
    "                data_modality = file['data_modality']\n",
    "                data_type = file['data_type']\n",
    "                byte_size = file['byte_size']\n",
    "                checksum = file['checksum']\n",
    "                gdc_identifier = file['identifier'][0]['value']\n",
    "                \n",
    "                record = {\n",
    "                    'research_subject_id': research_subject_id,\n",
    "                    'specimen_id': specimen_id,\n",
    "                    'specimen_source_material_type': source_material_type,\n",
    "                    'specimen_type': specimen_type,\n",
    "                    'file_id': file_id,\n",
    "                    'file_format': file_format,\n",
    "                    'label': label,\n",
    "                    'data_category': data_category,\n",
    "                    'data_modality': data_modality,\n",
    "                    'data_type': data_type,\n",
    "                    'checksum': checksum,\n",
    "                    'byte_size': byte_size,\n",
    "                    'gdc_identifier': gdc_identifier\n",
    "                }\n",
    "                records.append(record)\n",
    "    if return_dataframe:\n",
    "        return pd.DataFrame(records)\n",
    "    else:\n",
    "        return records\n",
    "    \n",
    "def create_gdc_manifest(dataframe, state='validated'):\n",
    "    column_map = {\n",
    "        'file_id': 'id',\n",
    "        'label': 'filename',\n",
    "        'checksum': 'md5',\n",
    "        'size': 'byte_size'\n",
    "    }\n",
    "    \n",
    "    return (dataframe\n",
    "            .rename(columns=column_map)\n",
    "            .loc[:, column_map.values()]\n",
    "           )"
   ]
  },
  {
   "cell_type": "code",
   "execution_count": 5,
   "id": "3583329f",
   "metadata": {},
   "outputs": [
    {
     "name": "stdout",
     "output_type": "stream",
     "text": [
      "ResearchSubject.member_of_research_project = \"TCGA-READ\"\n",
      "Getting results from database\n",
      "\n",
      "Total execution time: 23815 ms\n"
     ]
    }
   ],
   "source": [
    "research_subjects = get_cohort_research_subjects(TCGA_cohort)\n",
    "file_records = create_file_records(research_subjects, return_dataframe=True)"
   ]
  },
  {
   "cell_type": "code",
   "execution_count": 6,
   "id": "1a274a49",
   "metadata": {},
   "outputs": [
    {
     "data": {
      "text/plain": [
       "Index(['research_subject_id', 'specimen_id', 'specimen_source_material_type',\n",
       "       'specimen_type', 'file_id', 'file_format', 'label', 'data_category',\n",
       "       'data_modality', 'data_type', 'checksum', 'byte_size',\n",
       "       'gdc_identifier'],\n",
       "      dtype='object')"
      ]
     },
     "execution_count": 6,
     "metadata": {},
     "output_type": "execute_result"
    }
   ],
   "source": [
    "file_records.columns"
   ]
  },
  {
   "cell_type": "code",
   "execution_count": 7,
   "id": "d2ab7957",
   "metadata": {},
   "outputs": [
    {
     "data": {
      "text/plain": [
       "False    44755\n",
       "True       678\n",
       "dtype: int64"
      ]
     },
     "execution_count": 7,
     "metadata": {},
     "output_type": "execute_result"
    }
   ],
   "source": [
    "idx_aliquot = file_records['specimen_type'].eq('aliquot')\n",
    "idx_bam = file_records['file_format'].eq('BAM')\n",
    "idx = idx_aliquot & idx_bam\n",
    "idx.value_counts()"
   ]
  },
  {
   "cell_type": "code",
   "execution_count": 8,
   "id": "d33599af",
   "metadata": {},
   "outputs": [],
   "source": [
    "bams = file_records.loc[idx, :].reset_index(drop=True)"
   ]
  },
  {
   "cell_type": "code",
   "execution_count": 9,
   "id": "fa5d1442",
   "metadata": {},
   "outputs": [],
   "source": [
    "# Manually annotate sequencing type\n",
    "# This is not yet captured in the CDA and would be a wonderful feature to add\n",
    "# The GDC has two additional metadata fields for files, \n",
    "# Experimental Strategy - this seems to be the sequencing type\n",
    "# Platform - this seems to be the sequencing platform\n",
    "if TCGA_cohort == 'TCGA-SKCM':\n",
    "    bams['sequencing_type'] = pd.NA\n",
    "\n",
    "    idx_mi_rna_seq = bams.loc[:, 'label'].str.contains('mirna')\n",
    "    bams.loc[idx_mi_rna_seq, 'sequencing_type'] = 'miRNA-Seq'\n",
    "\n",
    "    idx_atac_seq = bams.loc[:, 'label'].str.contains('atac')\n",
    "    bams.loc[idx_atac_seq, 'sequencing_type'] = 'ATAC-Seq'\n",
    "\n",
    "    idx_wes = bams['label'].str.split('.').apply(lambda x: len(x)).eq(4)\n",
    "    bams.loc[idx_wes, 'sequencing_type'] = 'WES'\n",
    "\n",
    "    bams['sequencing_type'].fillna('RNA-seq', inplace=True)"
   ]
  },
  {
   "cell_type": "code",
   "execution_count": 10,
   "id": "4adbcf36",
   "metadata": {},
   "outputs": [],
   "source": [
    "manifest = create_gdc_manifest(bams)\n",
    "manifest.to_csv(f'{TCGA_cohort}.bams.created_with_cda.tsv', sep='\\t')"
   ]
  },
  {
   "cell_type": "code",
   "execution_count": null,
   "id": "e8d36e9b",
   "metadata": {},
   "outputs": [],
   "source": []
  },
  {
   "cell_type": "code",
   "execution_count": null,
   "id": "65dc7403",
   "metadata": {},
   "outputs": [],
   "source": []
  }
 ],
 "metadata": {
  "kernelspec": {
   "display_name": "cda",
   "language": "python",
   "name": "cda"
  },
  "language_info": {
   "codemirror_mode": {
    "name": "ipython",
    "version": 3
   },
   "file_extension": ".py",
   "mimetype": "text/x-python",
   "name": "python",
   "nbconvert_exporter": "python",
   "pygments_lexer": "ipython3",
   "version": "3.9.7"
  }
 },
 "nbformat": 4,
 "nbformat_minor": 5
}
