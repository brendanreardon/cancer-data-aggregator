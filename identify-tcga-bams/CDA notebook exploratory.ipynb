{
 "cells": [
  {
   "cell_type": "code",
   "execution_count": 123,
   "id": "3f3d7d4f",
   "metadata": {},
   "outputs": [],
   "source": [
    "import cdapython as cda\n",
    "import pandas as pd\n",
    "#from cdapython import Q, columns, unique_terms, query\n",
    "\n",
    "# Identify TCGA melanoma research subjects\n",
    "# Identify which ones have DNA bams\n",
    "# Identify hwich ones have RNA bams\n",
    "# Starting at 9 pm, other sheet took 30 minutes to create"
   ]
  },
  {
   "cell_type": "code",
   "execution_count": 8,
   "id": "880047d5",
   "metadata": {},
   "outputs": [
    {
     "data": {
      "text/plain": [
       "['id',\n",
       " 'identifier',\n",
       " 'identifier.system',\n",
       " 'identifier.value',\n",
       " 'species',\n",
       " 'sex',\n",
       " 'race',\n",
       " 'ethnicity',\n",
       " 'days_to_birth',\n",
       " 'subject_associated_project',\n",
       " 'vital_status',\n",
       " 'age_at_death',\n",
       " 'cause_of_death',\n",
       " 'File',\n",
       " 'File.id',\n",
       " 'File.identifier',\n",
       " 'File.identifier.system',\n",
       " 'File.identifier.value',\n",
       " 'File.label',\n",
       " 'File.data_category',\n",
       " 'File.data_type',\n",
       " 'File.file_format',\n",
       " 'File.associated_project',\n",
       " 'File.drs_uri',\n",
       " 'File.byte_size',\n",
       " 'File.checksum',\n",
       " 'File.data_modality',\n",
       " 'File.imaging_modality',\n",
       " 'File.dbgap_accession_number',\n",
       " 'ResearchSubject',\n",
       " 'ResearchSubject.id',\n",
       " 'ResearchSubject.identifier',\n",
       " 'ResearchSubject.identifier.system',\n",
       " 'ResearchSubject.identifier.value',\n",
       " 'ResearchSubject.member_of_research_project',\n",
       " 'ResearchSubject.primary_diagnosis_condition',\n",
       " 'ResearchSubject.primary_diagnosis_site',\n",
       " 'ResearchSubject.Diagnosis',\n",
       " 'ResearchSubject.Diagnosis.id',\n",
       " 'ResearchSubject.Diagnosis.identifier',\n",
       " 'ResearchSubject.Diagnosis.identifier.system',\n",
       " 'ResearchSubject.Diagnosis.identifier.value',\n",
       " 'ResearchSubject.Diagnosis.primary_diagnosis',\n",
       " 'ResearchSubject.Diagnosis.age_at_diagnosis',\n",
       " 'ResearchSubject.Diagnosis.morphology',\n",
       " 'ResearchSubject.Diagnosis.stage',\n",
       " 'ResearchSubject.Diagnosis.grade',\n",
       " 'ResearchSubject.Diagnosis.method_of_diagnosis',\n",
       " 'ResearchSubject.Diagnosis.Treatment',\n",
       " 'ResearchSubject.Diagnosis.Treatment.id',\n",
       " 'ResearchSubject.Diagnosis.Treatment.identifier',\n",
       " 'ResearchSubject.Diagnosis.Treatment.identifier.system',\n",
       " 'ResearchSubject.Diagnosis.Treatment.identifier.value',\n",
       " 'ResearchSubject.Diagnosis.Treatment.treatment_type',\n",
       " 'ResearchSubject.Diagnosis.Treatment.treatment_outcome',\n",
       " 'ResearchSubject.Diagnosis.Treatment.days_to_treatment_start',\n",
       " 'ResearchSubject.Diagnosis.Treatment.days_to_treatment_end',\n",
       " 'ResearchSubject.Diagnosis.Treatment.therapeutic_agent',\n",
       " 'ResearchSubject.Diagnosis.Treatment.treatment_anatomic_site',\n",
       " 'ResearchSubject.Diagnosis.Treatment.treatment_effect',\n",
       " 'ResearchSubject.Diagnosis.Treatment.treatment_end_reason',\n",
       " 'ResearchSubject.Diagnosis.Treatment.number_of_cycles',\n",
       " 'ResearchSubject.File',\n",
       " 'ResearchSubject.File.id',\n",
       " 'ResearchSubject.File.identifier',\n",
       " 'ResearchSubject.File.identifier.system',\n",
       " 'ResearchSubject.File.identifier.value',\n",
       " 'ResearchSubject.File.label',\n",
       " 'ResearchSubject.File.data_category',\n",
       " 'ResearchSubject.File.data_type',\n",
       " 'ResearchSubject.File.file_format',\n",
       " 'ResearchSubject.File.associated_project',\n",
       " 'ResearchSubject.File.drs_uri',\n",
       " 'ResearchSubject.File.byte_size',\n",
       " 'ResearchSubject.File.checksum',\n",
       " 'ResearchSubject.File.data_modality',\n",
       " 'ResearchSubject.File.imaging_modality',\n",
       " 'ResearchSubject.File.dbgap_accession_number',\n",
       " 'ResearchSubject.Specimen',\n",
       " 'ResearchSubject.Specimen.id',\n",
       " 'ResearchSubject.Specimen.identifier',\n",
       " 'ResearchSubject.Specimen.identifier.system',\n",
       " 'ResearchSubject.Specimen.identifier.value',\n",
       " 'ResearchSubject.Specimen.associated_project',\n",
       " 'ResearchSubject.Specimen.age_at_collection',\n",
       " 'ResearchSubject.Specimen.primary_disease_type',\n",
       " 'ResearchSubject.Specimen.anatomical_site',\n",
       " 'ResearchSubject.Specimen.source_material_type',\n",
       " 'ResearchSubject.Specimen.specimen_type',\n",
       " 'ResearchSubject.Specimen.derived_from_specimen',\n",
       " 'ResearchSubject.Specimen.derived_from_subject',\n",
       " 'ResearchSubject.Specimen.File',\n",
       " 'ResearchSubject.Specimen.File.id',\n",
       " 'ResearchSubject.Specimen.File.identifier',\n",
       " 'ResearchSubject.Specimen.File.identifier.system',\n",
       " 'ResearchSubject.Specimen.File.identifier.value',\n",
       " 'ResearchSubject.Specimen.File.label',\n",
       " 'ResearchSubject.Specimen.File.data_category',\n",
       " 'ResearchSubject.Specimen.File.data_type',\n",
       " 'ResearchSubject.Specimen.File.file_format']"
      ]
     },
     "execution_count": 8,
     "metadata": {},
     "output_type": "execute_result"
    }
   ],
   "source": [
    "cda.columns()"
   ]
  },
  {
   "cell_type": "code",
   "execution_count": 182,
   "id": "a3a5ec05",
   "metadata": {},
   "outputs": [
    {
     "data": {
      "text/plain": [
       "['Biospecimen',\n",
       " 'Clinical',\n",
       " 'Combined Nucleotide Variation',\n",
       " 'Copy Number Variation',\n",
       " 'DNA Methylation',\n",
       " 'Peptide Spectral Matches',\n",
       " 'Processed Mass Spectra',\n",
       " 'Protein Assembly',\n",
       " 'Proteome Profiling',\n",
       " 'Quality Metrics',\n",
       " 'Raw Mass Spectra',\n",
       " 'Sequencing Reads',\n",
       " 'Simple Nucleotide Variation',\n",
       " 'Somatic Structural Variation',\n",
       " 'Structural Variation',\n",
       " 'Transcriptome Profiling']"
      ]
     },
     "execution_count": 182,
     "metadata": {},
     "output_type": "execute_result"
    }
   ],
   "source": [
    "cda.unique_terms('ResearchSubject.File.data_category')"
   ]
  },
  {
   "cell_type": "markdown",
   "id": "9fcfcfb0",
   "metadata": {},
   "source": [
    "ResearchSubject.Specimen.File.label is some random strings with the suffix \"dcm\""
   ]
  },
  {
   "cell_type": "code",
   "execution_count": null,
   "id": "876599da",
   "metadata": {},
   "outputs": [],
   "source": []
  },
  {
   "cell_type": "code",
   "execution_count": 39,
   "id": "6873078b",
   "metadata": {},
   "outputs": [
    {
     "name": "stdout",
     "output_type": "stream",
     "text": [
      "Getting results from database\n",
      "\n"
     ]
    },
    {
     "name": "stderr",
     "output_type": "stream",
     "text": [
      "ERROR:root:\n",
      "                Http Status: 500\n",
      "                Error Message: Column name File is ambiguous at [1:124]\n",
      "                \n"
     ]
    },
    {
     "name": "stdout",
     "output_type": "stream",
     "text": [
      "Total execution time: 2904 ms\n"
     ]
    }
   ],
   "source": [
    "# how can we specify tcga melanoma? # Research Subject?\n",
    "q_skcm = cda.query('ResearchSubject.member_of_research_project = \"TCGA-SKCM\"')\n",
    "q_skcm = cda.Q('ResearchSubject.member_of_research_project = \"TCGA-SKCM\"')\n",
    "\n",
    "# how can we specify a bam? # File format?\n",
    "q_bam = cda.query('File.file_format = \"BAM\"')\n",
    "q_bam = cda.Q('File.file_format = \"BAM\"')\n",
    "\n",
    "# how can we specify WXS? ResearchSubject.Specimen? There does not seem to be an option to view technology type\n",
    "# GDC has the category \"Experimental Strategy\" that lists sequencing types\n",
    "\n",
    "# how can we specify tumor? ResearchSubject.Specimen\n",
    "q_sequencing = cda.Q('ResearchSubject.File.data_category = \"Sequencing Reads\"')\n",
    "\n",
    "q_sample = cda.query('ResearchSubject.Specimen.specimen_type = \"sample\"')\n",
    "q_sample = cda.Q('ResearchSubject.Specimen.specimen_type = \"sample\"')\n",
    "\n",
    "q_tumor = cda.query('ResearchSubject.Specimen.source_material_type = \"Tumor\"') # here, unique terms also have \"primary tumor\", \"recurrent tumor\", and \"DNA\"\n",
    "q_tumor = cda.Q('ResearchSubject.Specimen.source_material_type = \"Tumor\"')\n",
    "\n",
    "q = q_skcm.And(q_bam.And(q_sample.And(q_tumor)))\n",
    "r = q.run()\n"
   ]
  },
  {
   "cell_type": "code",
   "execution_count": 44,
   "id": "c702fb8d",
   "metadata": {},
   "outputs": [
    {
     "name": "stdout",
     "output_type": "stream",
     "text": [
      "Getting results from database\n",
      "\n",
      "Total execution time: 2951 ms\n"
     ]
    }
   ],
   "source": [
    "query = 'ResearchSubject.member_of_research_project = \"TCGA-SKCM\" AND File.file_format = \"BAM\"'\n",
    "q = cda.Q(query)\n",
    "response = q.run()"
   ]
  },
  {
   "cell_type": "code",
   "execution_count": 45,
   "id": "7de7df67",
   "metadata": {},
   "outputs": [
    {
     "data": {
      "text/plain": [
       "\n",
       "        QueryID: 2c28508c-6c62-4e7b-a23b-1b8ba86b814c\n",
       "        Query: SELECT all_v2_1.* FROM gdc-bq-sample.integration.all_v2_1 AS all_v2_1, UNNEST(ResearchSubject) AS _ResearchSubject WHERE (_ResearchSubject.member_of_research_project = 'TCGA-SKCM\" AND File.file_format = \"BAM')\n",
       "        Offset: 0\n",
       "        Count: 0\n",
       "        Total Row Count: 0\n",
       "        More pages: False\n",
       "        "
      ]
     },
     "execution_count": 45,
     "metadata": {},
     "output_type": "execute_result"
    }
   ],
   "source": [
    "response"
   ]
  },
  {
   "cell_type": "markdown",
   "id": "1b159a3f",
   "metadata": {},
   "source": [
    "It seems that AND is not working. I wonder if it is because ResearchSubject is querying participants while File is querying files..."
   ]
  },
  {
   "cell_type": "code",
   "execution_count": 47,
   "id": "1b50b93b",
   "metadata": {},
   "outputs": [
    {
     "name": "stdout",
     "output_type": "stream",
     "text": [
      "Getting results from database\n",
      "\n",
      "Total execution time: 11844 ms\n",
      "Getting results from database\n",
      "\n",
      "Total execution time: 19289 ms\n"
     ]
    }
   ],
   "source": [
    "query = 'ResearchSubject.member_of_research_project = \"TCGA-SKCM\"'\n",
    "q = cda.Q(query)\n",
    "response_skcm = q.run()\n",
    "\n",
    "query = 'File.file_format = \"BAM\"'\n",
    "q = cda.Q(query)\n",
    "response_bam = q.run()"
   ]
  },
  {
   "cell_type": "code",
   "execution_count": 48,
   "id": "599eb905",
   "metadata": {},
   "outputs": [
    {
     "data": {
      "text/plain": [
       "\n",
       "        QueryID: 0d5a29ad-5df6-4ee0-9281-090b7867b7b1\n",
       "        Query: SELECT all_v2_1.* FROM gdc-bq-sample.integration.all_v2_1 AS all_v2_1, UNNEST(ResearchSubject) AS _ResearchSubject WHERE (_ResearchSubject.member_of_research_project = 'TCGA-SKCM')\n",
       "        Offset: 0\n",
       "        Count: 100\n",
       "        Total Row Count: 470\n",
       "        More pages: True\n",
       "        "
      ]
     },
     "execution_count": 48,
     "metadata": {},
     "output_type": "execute_result"
    }
   ],
   "source": [
    "response_skcm"
   ]
  },
  {
   "cell_type": "code",
   "execution_count": 49,
   "id": "eeb4aa1d",
   "metadata": {},
   "outputs": [
    {
     "data": {
      "text/plain": [
       "\n",
       "        QueryID: 4b75e01f-502a-42cf-b6a2-db81b0ada9d1\n",
       "        Query: SELECT all_v2_1.* FROM gdc-bq-sample.integration.all_v2_1 AS all_v2_1, UNNEST(File) AS _File WHERE (_File.file_format = 'BAM')\n",
       "        Offset: 0\n",
       "        Count: 100\n",
       "        Total Row Count: 87853\n",
       "        More pages: True\n",
       "        "
      ]
     },
     "execution_count": 49,
     "metadata": {},
     "output_type": "execute_result"
    }
   ],
   "source": [
    "response_bam"
   ]
  },
  {
   "cell_type": "markdown",
   "id": "224c7320",
   "metadata": {},
   "source": [
    "# Working from a single query\n",
    "Since it seems that we cannot combine queries, we are instead going to query against TCGA SKCM and see how far we can get with that initial query and response.\n",
    "\n",
    "- Can we identify patients with melanoma?\n",
    "- Can we identify patients with bams?\n",
    "- Can we identify patients with WXS bams?\n",
    "- Can we identify patients with RNA-seq bams?"
   ]
  },
  {
   "cell_type": "code",
   "execution_count": 135,
   "id": "5ba14aeb",
   "metadata": {},
   "outputs": [
    {
     "name": "stdout",
     "output_type": "stream",
     "text": [
      "Getting results from database\n",
      "\n",
      "Total execution time: 34979 ms\n"
     ]
    }
   ],
   "source": [
    "query = 'ResearchSubject.member_of_research_project = \"TCGA-SKCM\"'\n",
    "q = cda.Q(query)\n",
    "r = q.run(limit=1000)"
   ]
  },
  {
   "cell_type": "code",
   "execution_count": 136,
   "id": "768f94df",
   "metadata": {},
   "outputs": [
    {
     "data": {
      "text/plain": [
       "\n",
       "        QueryID: 45aeac13-20df-4f73-873e-bd9be7c16ede\n",
       "        Query: SELECT all_v2_1.* FROM gdc-bq-sample.integration.all_v2_1 AS all_v2_1, UNNEST(ResearchSubject) AS _ResearchSubject WHERE (_ResearchSubject.member_of_research_project = 'TCGA-SKCM')\n",
       "        Offset: 0\n",
       "        Count: 470\n",
       "        Total Row Count: 470\n",
       "        More pages: False\n",
       "        "
      ]
     },
     "execution_count": 136,
     "metadata": {},
     "output_type": "execute_result"
    }
   ],
   "source": [
    "r"
   ]
  },
  {
   "cell_type": "markdown",
   "id": "54c73a56",
   "metadata": {},
   "source": [
    "As expected, we return 470 participants or \"research subjects\""
   ]
  },
  {
   "cell_type": "code",
   "execution_count": 137,
   "id": "a77312ed",
   "metadata": {},
   "outputs": [
    {
     "data": {
      "text/plain": [
       "dict_keys(['id', 'identifier', 'species', 'sex', 'race', 'ethnicity', 'days_to_birth', 'subject_associated_project', 'vital_status', 'age_at_death', 'cause_of_death', 'File', 'ResearchSubject'])"
      ]
     },
     "execution_count": 137,
     "metadata": {},
     "output_type": "execute_result"
    }
   ],
   "source": [
    "r[0].keys()"
   ]
  },
  {
   "cell_type": "code",
   "execution_count": 138,
   "id": "6646d6e4",
   "metadata": {},
   "outputs": [
    {
     "data": {
      "text/plain": [
       "dict_keys(['id', 'identifier', 'member_of_research_project', 'primary_diagnosis_condition', 'primary_diagnosis_site', 'Diagnosis', 'File', 'Specimen'])"
      ]
     },
     "execution_count": 138,
     "metadata": {},
     "output_type": "execute_result"
    }
   ],
   "source": [
    "r[0]['ResearchSubject'][0].keys()"
   ]
  },
  {
   "cell_type": "code",
   "execution_count": 139,
   "id": "8244b346",
   "metadata": {},
   "outputs": [
    {
     "data": {
      "text/plain": [
       "54"
      ]
     },
     "execution_count": 139,
     "metadata": {},
     "output_type": "execute_result"
    }
   ],
   "source": [
    "len(r[0]['File'])\n",
    "# 54 files associated with this individual"
   ]
  },
  {
   "cell_type": "code",
   "execution_count": 140,
   "id": "a31f2264",
   "metadata": {},
   "outputs": [
    {
     "data": {
      "text/plain": [
       "{'id': 'c078143e-7eca-43a2-a639-730475f6ad49',\n",
       " 'identifier': [{'system': 'GDC',\n",
       "   'value': 'c078143e-7eca-43a2-a639-730475f6ad49'}],\n",
       " 'label': 'c078143e-7eca-43a2-a639-730475f6ad49.vep.vcf.gz',\n",
       " 'data_category': 'Simple Nucleotide Variation',\n",
       " 'data_type': 'Annotated Somatic Mutation',\n",
       " 'file_format': 'VCF',\n",
       " 'associated_project': 'TCGA-SKCM',\n",
       " 'drs_uri': 'drs://dg.4DFC:c078143e-7eca-43a2-a639-730475f6ad49',\n",
       " 'byte_size': '1068604',\n",
       " 'checksum': '2ffadb975ad20842936a51527c02f62e',\n",
       " 'data_modality': 'Genomic',\n",
       " 'imaging_modality': None,\n",
       " 'dbgap_accession_number': None}"
      ]
     },
     "execution_count": 140,
     "metadata": {},
     "output_type": "execute_result"
    }
   ],
   "source": [
    "r[0]['File'][0]\n",
    "# These is not a way to map back up to individual"
   ]
  },
  {
   "cell_type": "code",
   "execution_count": 141,
   "id": "5a733cd5",
   "metadata": {},
   "outputs": [],
   "source": [
    "bams = {}\n",
    "for research_subject in r[0:1]:\n",
    "    research_subject_id = research_subject['id']\n",
    "    files = research_subject['File']\n",
    "    bams = [file for file in files if file['file_format'] == 'BAM'] "
   ]
  },
  {
   "cell_type": "code",
   "execution_count": 142,
   "id": "7624dca5",
   "metadata": {},
   "outputs": [
    {
     "data": {
      "text/plain": [
       "{'id': '3f474ec5-1b6e-45e5-9fc4-fdb54e9a133b',\n",
       " 'identifier': [{'system': 'GDC',\n",
       "   'value': '3f474ec5-1b6e-45e5-9fc4-fdb54e9a133b'}],\n",
       " 'label': 'TCGA-ER-A3EV-06A-11R-A20E-13_mirna_gdc_realn.bam',\n",
       " 'data_category': 'Sequencing Reads',\n",
       " 'data_type': 'Aligned Reads',\n",
       " 'file_format': 'BAM',\n",
       " 'associated_project': 'TCGA-SKCM',\n",
       " 'drs_uri': 'drs://dg.4DFC:3f474ec5-1b6e-45e5-9fc4-fdb54e9a133b',\n",
       " 'byte_size': '142366534',\n",
       " 'checksum': '86bffb2922b60115bd0b1bf8e154a899',\n",
       " 'data_modality': 'Genomic',\n",
       " 'imaging_modality': None,\n",
       " 'dbgap_accession_number': None}"
      ]
     },
     "execution_count": 142,
     "metadata": {},
     "output_type": "execute_result"
    }
   ],
   "source": [
    "bams[0]\n",
    "# There is no way for us to identify more information about this file; e.g. sequencing type or sample type"
   ]
  },
  {
   "cell_type": "code",
   "execution_count": 143,
   "id": "5cd0bd43",
   "metadata": {},
   "outputs": [
    {
     "data": {
      "text/plain": [
       "22"
      ]
     },
     "execution_count": 143,
     "metadata": {},
     "output_type": "execute_result"
    }
   ],
   "source": [
    "len(r[0]['ResearchSubject'][0]['Specimen'])"
   ]
  },
  {
   "cell_type": "code",
   "execution_count": 144,
   "id": "8da59524",
   "metadata": {},
   "outputs": [],
   "source": [
    "# There does not seem to be a way to figure out more information about specimen. I'll list all source_material_types"
   ]
  },
  {
   "cell_type": "code",
   "execution_count": 145,
   "id": "e8da4cf6",
   "metadata": {
    "scrolled": false
   },
   "outputs": [
    {
     "data": {
      "text/plain": [
       "{'id': 'a4a0d4ca-7909-568f-b880-3ed1d1401060',\n",
       " 'identifier': [{'system': 'GDC',\n",
       "   'value': 'a4a0d4ca-7909-568f-b880-3ed1d1401060'}],\n",
       " 'associated_project': 'TCGA-SKCM',\n",
       " 'age_at_collection': '-20354',\n",
       " 'primary_disease_type': 'Nevi and Melanomas',\n",
       " 'anatomical_site': None,\n",
       " 'source_material_type': 'Primary Tumor',\n",
       " 'specimen_type': 'portion',\n",
       " 'derived_from_specimen': '4135df0c-983a-4565-b3e0-8056aa4be2bb',\n",
       " 'derived_from_subject': 'TCGA-ER-A3EV',\n",
       " 'File': [{'id': '10038031-4300-4c86-b51d-fa227585680f',\n",
       "   'identifier': [{'system': 'GDC',\n",
       "     'value': '10038031-4300-4c86-b51d-fa227585680f'}],\n",
       "   'label': 'TCGA-ER-A3EV-01Z-00-DX1.295FE0BC-4BCC-4950-A671-01A49FE10185.svs',\n",
       "   'data_category': 'Biospecimen',\n",
       "   'data_type': 'Slide Image',\n",
       "   'file_format': 'SVS',\n",
       "   'associated_project': 'TCGA-SKCM',\n",
       "   'drs_uri': 'drs://dg.4DFC:10038031-4300-4c86-b51d-fa227585680f',\n",
       "   'byte_size': '1078701213',\n",
       "   'checksum': '0619207c53b3675754ccec92b4ea61ec',\n",
       "   'data_modality': 'Genomic',\n",
       "   'imaging_modality': None,\n",
       "   'dbgap_accession_number': None}]}"
      ]
     },
     "execution_count": 145,
     "metadata": {},
     "output_type": "execute_result"
    }
   ],
   "source": [
    "r[0]['ResearchSubject'][0]['Specimen'][1]"
   ]
  },
  {
   "cell_type": "code",
   "execution_count": 146,
   "id": "f72a1d48",
   "metadata": {},
   "outputs": [
    {
     "data": {
      "text/plain": [
       "1"
      ]
     },
     "execution_count": 146,
     "metadata": {},
     "output_type": "execute_result"
    }
   ],
   "source": [
    "len(r[0]['ResearchSubject'])"
   ]
  },
  {
   "cell_type": "code",
   "execution_count": 151,
   "id": "b57b03c9",
   "metadata": {},
   "outputs": [
    {
     "data": {
      "text/plain": [
       "1    470\n",
       "dtype: int64"
      ]
     },
     "execution_count": 151,
     "metadata": {},
     "output_type": "execute_result"
    }
   ],
   "source": [
    "# Make distribution of Research Subject calls\n",
    "# List specimen per research subjects\n",
    "\n",
    "research_subject_counts = {}\n",
    "for research_subject in r:\n",
    "    research_subject_id = research_subject['id']\n",
    "    research_subjects_counts = len(research_subject['ResearchSubject'])\n",
    "    research_subject_counts[research_subject_id] = research_subjects_counts\n",
    "pd.Series(research_subject_counts).value_counts()\n",
    "\n",
    "# Why did it not return all? Need to set the limit to be much higher"
   ]
  },
  {
   "cell_type": "code",
   "execution_count": 179,
   "id": "6b1f0a7f",
   "metadata": {},
   "outputs": [],
   "source": [
    "source_material_types = {}\n",
    "specimen_types = {}\n",
    "for research_subject in r:\n",
    "#for research_subject in r[0:1]:\n",
    "    research_subject_id = research_subject['id']\n",
    "    specimens = research_subject['ResearchSubject'][0]['Specimen']\n",
    "    for specimen in specimens:\n",
    "        specimen_id = specimen['id']\n",
    "        source_material_type = specimen['source_material_type']\n",
    "        specimen_type = specimen['specimen_type']\n",
    "        \n",
    "        source_material_types[specimen_id] = source_material_type\n",
    "        specimen_types[specimen_id] = specimen_type"
   ]
  },
  {
   "cell_type": "code",
   "execution_count": 180,
   "id": "8e25ba58",
   "metadata": {},
   "outputs": [
    {
     "data": {
      "text/plain": [
       "Metastatic               5676\n",
       "Blood Derived Normal     3583\n",
       "Primary Tumor            2513\n",
       "Solid Tissue Normal        34\n",
       "Additional Metastatic      18\n",
       "dtype: int64"
      ]
     },
     "execution_count": 180,
     "metadata": {},
     "output_type": "execute_result"
    }
   ],
   "source": [
    "pd.Series(source_material_types).value_counts()"
   ]
  },
  {
   "cell_type": "code",
   "execution_count": 181,
   "id": "e05c37fc",
   "metadata": {},
   "outputs": [
    {
     "data": {
      "text/plain": [
       "aliquot    4961\n",
       "analyte    2360\n",
       "portion    2157\n",
       "sample     1384\n",
       "slide       962\n",
       "dtype: int64"
      ]
     },
     "execution_count": 181,
     "metadata": {},
     "output_type": "execute_result"
    }
   ],
   "source": [
    "pd.Series(specimen_types).value_counts()"
   ]
  },
  {
   "cell_type": "code",
   "execution_count": 184,
   "id": "a6413e5e",
   "metadata": {},
   "outputs": [
    {
     "data": {
      "text/plain": [
       "[{'id': '969cf1c6-52d1-4353-b712-68c1c5e0d051',\n",
       "  'identifier': [{'system': 'GDC',\n",
       "    'value': '969cf1c6-52d1-4353-b712-68c1c5e0d051'}],\n",
       "  'label': 'TCGA-GN-A262-01Z-00-DX1.64FB584F-24C0-4311-A75F-365CD48D0CD6.svs',\n",
       "  'data_category': 'Biospecimen',\n",
       "  'data_type': 'Slide Image',\n",
       "  'file_format': 'SVS',\n",
       "  'associated_project': 'TCGA-SKCM',\n",
       "  'drs_uri': 'drs://dg.4DFC:969cf1c6-52d1-4353-b712-68c1c5e0d051',\n",
       "  'byte_size': '1458397197',\n",
       "  'checksum': '1f640abf4eb96c65977478e899001515',\n",
       "  'data_modality': 'Genomic',\n",
       "  'imaging_modality': None,\n",
       "  'dbgap_accession_number': None}]"
      ]
     },
     "execution_count": 184,
     "metadata": {},
     "output_type": "execute_result"
    }
   ],
   "source": [
    "specimen['File']"
   ]
  },
  {
   "cell_type": "code",
   "execution_count": 286,
   "id": "7ab6048b",
   "metadata": {},
   "outputs": [],
   "source": [
    "records = []\n",
    "for research_subject in r:\n",
    "#for research_subject in r[0:1]:\n",
    "    research_subject_id = research_subject['id']\n",
    "    specimens = research_subject['ResearchSubject'][0]['Specimen']\n",
    "    for specimen in specimens:\n",
    "        specimen_id = specimen['id']\n",
    "        source_material_type = specimen['source_material_type']\n",
    "        specimen_type = specimen['specimen_type']\n",
    "        if specimen_type != 'aliquot':\n",
    "            continue\n",
    "        \n",
    "        files = specimen['File']\n",
    "        for file in files:\n",
    "            file_format = file['file_format']\n",
    "            if file_format != 'BAM':\n",
    "                continue\n",
    "            else:\n",
    "                file_id = file['id']\n",
    "                label = file['label']\n",
    "                data_category = file['data_category']\n",
    "                data_modality = file['data_modality']\n",
    "                data_type = file['data_type']\n",
    "                byte_size = file['byte_size']\n",
    "                checksum = file['checksum']\n",
    "                gdc_identifier = file['identifier'][0]['value']\n",
    "                \n",
    "                record = {\n",
    "                    'research_subject_id': research_subject_id,\n",
    "                    'specimen_id': specimen_id,\n",
    "                    'specimen_source_material_type': source_material_type,\n",
    "                    'specimen_type': specimen_type,\n",
    "                    'file_id': file_id,\n",
    "                    'label': label,\n",
    "                    'data_category': data_category,\n",
    "                    'data_modality': data_modality,\n",
    "                    'data_type': data_type,\n",
    "                    'checksum': checksum,\n",
    "                    'byte_size': byte_size,\n",
    "                    'gdc_identifier': gdc_identifier\n",
    "                }\n",
    "                records.append(record)"
   ]
  },
  {
   "cell_type": "code",
   "execution_count": 287,
   "id": "56f36150",
   "metadata": {},
   "outputs": [
    {
     "data": {
      "text/plain": [
       "1881"
      ]
     },
     "execution_count": 287,
     "metadata": {},
     "output_type": "execute_result"
    }
   ],
   "source": [
    "df = pd.DataFrame(records)\n",
    "len(records)\n",
    "# This has returned 8928 bams, but on the GDC portal there are only 1,881 bams\n",
    "# It looks like all of the GDC results are aliquots instead of samples, \n"
   ]
  },
  {
   "cell_type": "code",
   "execution_count": 288,
   "id": "c1fd840c",
   "metadata": {},
   "outputs": [
    {
     "data": {
      "text/plain": [
       "Index(['research_subject_id', 'specimen_id', 'specimen_source_material_type',\n",
       "       'specimen_type', 'file_id', 'label', 'data_category', 'data_modality',\n",
       "       'data_type', 'checksum', 'byte_size', 'gdc_identifier'],\n",
       "      dtype='object')"
      ]
     },
     "execution_count": 288,
     "metadata": {},
     "output_type": "execute_result"
    }
   ],
   "source": [
    "df.columns"
   ]
  },
  {
   "cell_type": "code",
   "execution_count": 289,
   "id": "6faba1ae",
   "metadata": {},
   "outputs": [
    {
     "data": {
      "text/plain": [
       "aliquot    1881\n",
       "Name: specimen_type, dtype: int64"
      ]
     },
     "execution_count": 289,
     "metadata": {},
     "output_type": "execute_result"
    }
   ],
   "source": [
    "df['specimen_type'].value_counts()"
   ]
  },
  {
   "cell_type": "code",
   "execution_count": 290,
   "id": "641ac936",
   "metadata": {},
   "outputs": [
    {
     "data": {
      "text/plain": [
       "1    1881\n",
       "Name: checksum, dtype: int64"
      ]
     },
     "execution_count": 290,
     "metadata": {},
     "output_type": "execute_result"
    }
   ],
   "source": [
    "df['checksum'].value_counts().value_counts()"
   ]
  },
  {
   "cell_type": "code",
   "execution_count": 291,
   "id": "edf6a9ca",
   "metadata": {},
   "outputs": [
    {
     "data": {
      "text/plain": [
       "1881"
      ]
     },
     "execution_count": 291,
     "metadata": {},
     "output_type": "execute_result"
    }
   ],
   "source": [
    "1404+477\n",
    "# They are all identical anyway, so we'll filter for aliqots to be consistent with GDC"
   ]
  },
  {
   "cell_type": "code",
   "execution_count": 292,
   "id": "be260000",
   "metadata": {},
   "outputs": [
    {
     "data": {
      "text/plain": [
       "Metastatic               1096\n",
       "Blood Derived Normal      469\n",
       "Primary Tumor             308\n",
       "Solid Tissue Normal         6\n",
       "Additional Metastatic       2\n",
       "Name: specimen_source_material_type, dtype: int64"
      ]
     },
     "execution_count": 292,
     "metadata": {},
     "output_type": "execute_result"
    }
   ],
   "source": [
    "df['specimen_source_material_type'].value_counts()"
   ]
  },
  {
   "cell_type": "code",
   "execution_count": 293,
   "id": "061c7175",
   "metadata": {},
   "outputs": [
    {
     "data": {
      "text/plain": [
       "False    1429\n",
       "True      452\n",
       "Name: label, dtype: int64"
      ]
     },
     "execution_count": 293,
     "metadata": {},
     "output_type": "execute_result"
    }
   ],
   "source": [
    "# The file type breakdown is\n",
    "# WXS: 944\n",
    "# RNA-seq: 472\n",
    "# miRNA-Seq: 452\n",
    "# ATAC-seq: 13\n",
    "# Can we decode what sequencing type each row is based on the labels?\n",
    "\n",
    "df['label'].str.contains('mirna').value_counts()"
   ]
  },
  {
   "cell_type": "code",
   "execution_count": 294,
   "id": "19d6979c",
   "metadata": {},
   "outputs": [
    {
     "data": {
      "text/plain": [
       "False    1868\n",
       "True       13\n",
       "Name: label, dtype: int64"
      ]
     },
     "execution_count": 294,
     "metadata": {},
     "output_type": "execute_result"
    }
   ],
   "source": [
    "# It looks like atac is also included in the filename\n",
    "# https://portal.gdc.cancer.gov/files/62778ced-3132-4964-a320-824af1f266a2 \n",
    "df['label'].str.contains('atac').value_counts()"
   ]
  },
  {
   "cell_type": "code",
   "execution_count": 295,
   "id": "5f22a99c",
   "metadata": {},
   "outputs": [
    {
     "data": {
      "text/plain": [
       "4    944\n",
       "2    937\n",
       "Name: label, dtype: int64"
      ]
     },
     "execution_count": 295,
     "metadata": {},
     "output_type": "execute_result"
    }
   ],
   "source": [
    "# Four periods means WXS?\n",
    "df['label'].str.split('.').apply(lambda x: len(x)).value_counts() "
   ]
  },
  {
   "cell_type": "code",
   "execution_count": 296,
   "id": "6fbe106b",
   "metadata": {},
   "outputs": [],
   "source": [
    "df['sequencing_type'] = pd.NA\n",
    "\n",
    "idx_mi_rna_seq = df.loc[:, 'label'].str.contains('mirna')\n",
    "df.loc[idx_mi_rna_seq, 'sequencing_type'] = 'miRNA-Seq'\n",
    "\n",
    "idx_atac_seq = df.loc[:, 'label'].str.contains('atac')\n",
    "df.loc[idx_atac_seq, 'sequencing_type'] = 'ATAC-Seq'\n",
    "\n",
    "idx_wes = df['label'].str.split('.').apply(lambda x: len(x)).eq(4)\n",
    "df.loc[idx_wes, 'sequencing_type'] = 'WES'\n",
    "\n",
    "df['sequencing_type'].fillna('RNA-seq', inplace=True)\n",
    "\n",
    "# I suspect that this fix is cohort specific"
   ]
  },
  {
   "cell_type": "code",
   "execution_count": 297,
   "id": "9d84e193",
   "metadata": {},
   "outputs": [
    {
     "data": {
      "text/plain": [
       "WES          944\n",
       "RNA-seq      472\n",
       "miRNA-Seq    452\n",
       "ATAC-Seq      13\n",
       "Name: sequencing_type, dtype: int64"
      ]
     },
     "execution_count": 297,
     "metadata": {},
     "output_type": "execute_result"
    }
   ],
   "source": [
    "df['sequencing_type'].value_counts()"
   ]
  },
  {
   "cell_type": "markdown",
   "id": "13560748",
   "metadata": {},
   "source": [
    "## Create gdc download manifest\n",
    "fields:\n",
    "- id\n",
    "- filename\n",
    "- md5\n",
    "- size\n",
    "- state"
   ]
  },
  {
   "cell_type": "code",
   "execution_count": 298,
   "id": "2f26bae1",
   "metadata": {},
   "outputs": [],
   "source": [
    "downloaded_manifest = pd.read_csv('gdc-data-portal-files/gdc_manifest_20220328_025435.txt', sep='\\t')\n",
    "generated_manifest = pd.DataFrame(columns=downloaded_manifest.columns)"
   ]
  },
  {
   "cell_type": "code",
   "execution_count": 299,
   "id": "7265cc68",
   "metadata": {},
   "outputs": [
    {
     "data": {
      "text/plain": [
       "Index(['research_subject_id', 'specimen_id', 'specimen_source_material_type',\n",
       "       'specimen_type', 'file_id', 'label', 'data_category', 'data_modality',\n",
       "       'data_type', 'checksum', 'byte_size', 'gdc_identifier',\n",
       "       'sequencing_type'],\n",
       "      dtype='object')"
      ]
     },
     "execution_count": 299,
     "metadata": {},
     "output_type": "execute_result"
    }
   ],
   "source": [
    "df.columns"
   ]
  },
  {
   "cell_type": "code",
   "execution_count": 302,
   "id": "00e8ce0a",
   "metadata": {},
   "outputs": [
    {
     "data": {
      "text/plain": [
       "validated    1881\n",
       "Name: state, dtype: int64"
      ]
     },
     "execution_count": 302,
     "metadata": {},
     "output_type": "execute_result"
    }
   ],
   "source": [
    "downloaded_manifest['state'].value_counts()"
   ]
  },
  {
   "cell_type": "code",
   "execution_count": 300,
   "id": "2bf1f6bb",
   "metadata": {},
   "outputs": [
    {
     "data": {
      "text/plain": [
       "True    1881\n",
       "Name: label, dtype: int64"
      ]
     },
     "execution_count": 300,
     "metadata": {},
     "output_type": "execute_result"
    }
   ],
   "source": [
    "df['label'].isin(downloaded_manifest['filename']).value_counts()"
   ]
  },
  {
   "cell_type": "code",
   "execution_count": 336,
   "id": "483da72b",
   "metadata": {},
   "outputs": [],
   "source": [
    "generated_manifest['id'] = df['file_id']\n",
    "generated_manifest['filename'] = df['label']\n",
    "generated_manifest['md5'] = df['checksum']\n",
    "generated_manifest['size'] = df['byte_size'].astype(int)\n",
    "generated_manifest['state'] = 'validated' # i'm not sure if this is standard or not"
   ]
  },
  {
   "cell_type": "code",
   "execution_count": 337,
   "id": "e1e49037",
   "metadata": {},
   "outputs": [],
   "source": [
    "generated_manifest = generated_manifest.sort_values(['id', 'filename']).reset_index(drop=True)\n",
    "downloaded_manifest = downloaded_manifest.sort_values(['id', 'filename']).reset_index(drop=True)"
   ]
  },
  {
   "cell_type": "code",
   "execution_count": 338,
   "id": "367ce431",
   "metadata": {},
   "outputs": [],
   "source": [
    "generated_hashes = pd.util.hash_pandas_object(generated_manifest)\n",
    "downloaded_hashes = pd.util.hash_pandas_object(downloaded_manifest)"
   ]
  },
  {
   "cell_type": "code",
   "execution_count": 339,
   "id": "b84ae20d",
   "metadata": {},
   "outputs": [
    {
     "data": {
      "text/plain": [
       "True    1881\n",
       "dtype: int64"
      ]
     },
     "execution_count": 339,
     "metadata": {},
     "output_type": "execute_result"
    }
   ],
   "source": [
    "generated_hashes.isin(downloaded_hashes).value_counts()"
   ]
  },
  {
   "cell_type": "code",
   "execution_count": 340,
   "id": "c3f1b95b",
   "metadata": {},
   "outputs": [
    {
     "data": {
      "text/plain": [
       "id          object\n",
       "filename    object\n",
       "md5         object\n",
       "size         int64\n",
       "state       object\n",
       "dtype: object"
      ]
     },
     "execution_count": 340,
     "metadata": {},
     "output_type": "execute_result"
    }
   ],
   "source": [
    "downloaded_manifest.dtypes"
   ]
  },
  {
   "cell_type": "code",
   "execution_count": 341,
   "id": "5b11f382",
   "metadata": {},
   "outputs": [
    {
     "data": {
      "text/plain": [
       "id          object\n",
       "filename    object\n",
       "md5         object\n",
       "size         int64\n",
       "state       object\n",
       "dtype: object"
      ]
     },
     "execution_count": 341,
     "metadata": {},
     "output_type": "execute_result"
    }
   ],
   "source": [
    "generated_manifest.dtypes"
   ]
  },
  {
   "cell_type": "code",
   "execution_count": null,
   "id": "9416a37d",
   "metadata": {},
   "outputs": [],
   "source": []
  }
 ],
 "metadata": {
  "kernelspec": {
   "display_name": "cda",
   "language": "python",
   "name": "cda"
  },
  "language_info": {
   "codemirror_mode": {
    "name": "ipython",
    "version": 3
   },
   "file_extension": ".py",
   "mimetype": "text/x-python",
   "name": "python",
   "nbconvert_exporter": "python",
   "pygments_lexer": "ipython3",
   "version": "3.9.7"
  }
 },
 "nbformat": 4,
 "nbformat_minor": 5
}
